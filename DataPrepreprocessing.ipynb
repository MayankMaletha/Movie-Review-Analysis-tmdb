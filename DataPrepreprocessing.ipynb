{
 "cells": [
  {
   "cell_type": "markdown",
   "id": "27929fe0",
   "metadata": {},
   "source": [
    "#### Data Prepration"
   ]
  },
  {
   "cell_type": "code",
   "execution_count": 1,
   "id": "64930254",
   "metadata": {},
   "outputs": [],
   "source": [
    "import requests\n",
    "import pandas as pd\n",
    "from tqdm import tqdm"
   ]
  },
  {
   "cell_type": "code",
   "execution_count": 2,
   "id": "960983da",
   "metadata": {},
   "outputs": [],
   "source": [
    "# API keys and base URLs\n",
    "API_KEY = \"8265bd1679663a7ea12ac168da84d2e8\"\n",
    "MOVIE_URL = \"https://api.themoviedb.org/3/movie/top_rated\"\n",
    "GENRE_URL = \"https://api.themoviedb.org/3/genre/movie/list\""
   ]
  },
  {
   "cell_type": "code",
   "execution_count": 3,
   "id": "92341a14",
   "metadata": {},
   "outputs": [],
   "source": [
    "# 1. Get Genre Mapping\n",
    "genre_response = requests.get(GENRE_URL, \n",
    "                              params={\"api_key\": API_KEY, \n",
    "                                      \"language\": \"en-US\"})\n",
    "genres_data = genre_response.json()[\"genres\"]\n",
    "genre_map = {g[\"id\"]: g[\"name\"] for g in genres_data}"
   ]
  },
  {
   "cell_type": "code",
   "execution_count": 4,
   "id": "d003de50",
   "metadata": {},
   "outputs": [
    {
     "data": {
      "text/plain": [
       "{28: 'Action',\n",
       " 12: 'Adventure',\n",
       " 16: 'Animation',\n",
       " 35: 'Comedy',\n",
       " 80: 'Crime',\n",
       " 99: 'Documentary',\n",
       " 18: 'Drama',\n",
       " 10751: 'Family',\n",
       " 14: 'Fantasy',\n",
       " 36: 'History',\n",
       " 27: 'Horror',\n",
       " 10402: 'Music',\n",
       " 9648: 'Mystery',\n",
       " 10749: 'Romance',\n",
       " 878: 'Science Fiction',\n",
       " 10770: 'TV Movie',\n",
       " 53: 'Thriller',\n",
       " 10752: 'War',\n",
       " 37: 'Western'}"
      ]
     },
     "execution_count": 4,
     "metadata": {},
     "output_type": "execute_result"
    }
   ],
   "source": [
    "genre_map"
   ]
  },
  {
   "cell_type": "code",
   "execution_count": 5,
   "id": "aad9c7d9",
   "metadata": {},
   "outputs": [
    {
     "name": "stderr",
     "output_type": "stream",
     "text": [
      "100%|██████████| 471/471 [05:57<00:00,  1.32it/s]\n"
     ]
    }
   ],
   "source": [
    "# 2. Fetch Movie Data from All Pages\n",
    "movies = []\n",
    "\n",
    "for page in tqdm(range(1, 472)):  # Pages 1 to 471\n",
    "    response = requests.get(MOVIE_URL, params={\n",
    "        \"api_key\": API_KEY,\n",
    "        \"language\": \"en-US\",\n",
    "        \"page\": page\n",
    "    })\n",
    "    if response.status_code == 200: # process the API response safely if 404 is an error\n",
    "        page_data = response.json().get(\"results\", [])\n",
    "        for movie in page_data:\n",
    "            # Map genre_ids to genre names\n",
    "            genres = [genre_map.get(gid, \"Unknown\") for gid in movie.get(\"genre_ids\", [])]\n",
    "            movies.append({\n",
    "                \"id\": movie[\"id\"],\n",
    "                \"title\": movie[\"title\"],\n",
    "                \"overview\": movie[\"overview\"],\n",
    "                \"rating\": movie[\"vote_average\"],\n",
    "                \"genre_names\": genres\n",
    "            })\n",
    "    else:\n",
    "        print(f\"Failed to fetch page {page}\")"
   ]
  },
  {
   "cell_type": "code",
   "execution_count": 7,
   "id": "7ca24778",
   "metadata": {},
   "outputs": [
    {
     "data": {
      "text/html": [
       "<div>\n",
       "<style scoped>\n",
       "    .dataframe tbody tr th:only-of-type {\n",
       "        vertical-align: middle;\n",
       "    }\n",
       "\n",
       "    .dataframe tbody tr th {\n",
       "        vertical-align: top;\n",
       "    }\n",
       "\n",
       "    .dataframe thead th {\n",
       "        text-align: right;\n",
       "    }\n",
       "</style>\n",
       "<table border=\"1\" class=\"dataframe\">\n",
       "  <thead>\n",
       "    <tr style=\"text-align: right;\">\n",
       "      <th></th>\n",
       "      <th>id</th>\n",
       "      <th>title</th>\n",
       "      <th>overview</th>\n",
       "      <th>rating</th>\n",
       "      <th>genre_names</th>\n",
       "    </tr>\n",
       "  </thead>\n",
       "  <tbody>\n",
       "    <tr>\n",
       "      <th>0</th>\n",
       "      <td>278</td>\n",
       "      <td>The Shawshank Redemption</td>\n",
       "      <td>Imprisoned in the 1940s for the double murder ...</td>\n",
       "      <td>8.700</td>\n",
       "      <td>[Drama, Crime]</td>\n",
       "    </tr>\n",
       "    <tr>\n",
       "      <th>1</th>\n",
       "      <td>238</td>\n",
       "      <td>The Godfather</td>\n",
       "      <td>Spanning the years 1945 to 1955, a chronicle o...</td>\n",
       "      <td>8.688</td>\n",
       "      <td>[Drama, Crime]</td>\n",
       "    </tr>\n",
       "    <tr>\n",
       "      <th>2</th>\n",
       "      <td>803796</td>\n",
       "      <td>KPop Demon Hunters</td>\n",
       "      <td>When K-pop superstars Rumi, Mira and Zoey aren...</td>\n",
       "      <td>8.599</td>\n",
       "      <td>[Animation, Fantasy, Action, Comedy, Music, Fa...</td>\n",
       "    </tr>\n",
       "    <tr>\n",
       "      <th>3</th>\n",
       "      <td>240</td>\n",
       "      <td>The Godfather Part II</td>\n",
       "      <td>In the continuing saga of the Corleone crime f...</td>\n",
       "      <td>8.571</td>\n",
       "      <td>[Drama, Crime]</td>\n",
       "    </tr>\n",
       "    <tr>\n",
       "      <th>4</th>\n",
       "      <td>424</td>\n",
       "      <td>Schindler's List</td>\n",
       "      <td>The true story of how businessman Oskar Schind...</td>\n",
       "      <td>8.600</td>\n",
       "      <td>[Drama, History, War]</td>\n",
       "    </tr>\n",
       "  </tbody>\n",
       "</table>\n",
       "</div>"
      ],
      "text/plain": [
       "       id                     title  \\\n",
       "0     278  The Shawshank Redemption   \n",
       "1     238             The Godfather   \n",
       "2  803796        KPop Demon Hunters   \n",
       "3     240     The Godfather Part II   \n",
       "4     424          Schindler's List   \n",
       "\n",
       "                                            overview  rating  \\\n",
       "0  Imprisoned in the 1940s for the double murder ...   8.700   \n",
       "1  Spanning the years 1945 to 1955, a chronicle o...   8.688   \n",
       "2  When K-pop superstars Rumi, Mira and Zoey aren...   8.599   \n",
       "3  In the continuing saga of the Corleone crime f...   8.571   \n",
       "4  The true story of how businessman Oskar Schind...   8.600   \n",
       "\n",
       "                                         genre_names  \n",
       "0                                     [Drama, Crime]  \n",
       "1                                     [Drama, Crime]  \n",
       "2  [Animation, Fantasy, Action, Comedy, Music, Fa...  \n",
       "3                                     [Drama, Crime]  \n",
       "4                              [Drama, History, War]  "
      ]
     },
     "execution_count": 7,
     "metadata": {},
     "output_type": "execute_result"
    }
   ],
   "source": [
    "# 3. Convert to DataFrame\n",
    "df = pd.DataFrame(movies)\n",
    "\n",
    "# 4. Preview\n",
    "df.head()"
   ]
  },
  {
   "cell_type": "code",
   "execution_count": 8,
   "id": "5fe6b11f",
   "metadata": {},
   "outputs": [
    {
     "data": {
      "text/plain": [
       "(9420, 5)"
      ]
     },
     "execution_count": 8,
     "metadata": {},
     "output_type": "execute_result"
    }
   ],
   "source": [
    "df.shape"
   ]
  },
  {
   "cell_type": "code",
   "execution_count": null,
   "id": "d76cac52",
   "metadata": {},
   "outputs": [],
   "source": []
  }
 ],
 "metadata": {
  "kernelspec": {
   "display_name": "base",
   "language": "python",
   "name": "python3"
  },
  "language_info": {
   "codemirror_mode": {
    "name": "ipython",
    "version": 3
   },
   "file_extension": ".py",
   "mimetype": "text/x-python",
   "name": "python",
   "nbconvert_exporter": "python",
   "pygments_lexer": "ipython3",
   "version": "3.12.7"
  }
 },
 "nbformat": 4,
 "nbformat_minor": 5
}
